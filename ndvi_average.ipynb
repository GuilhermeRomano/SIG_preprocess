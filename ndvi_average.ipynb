{
 "cells": [
  {
   "cell_type": "code",
   "execution_count": 1,
   "metadata": {},
   "outputs": [],
   "source": [
    "import numpy as np\n",
    "import csv\n",
    "import rasterio\n",
    "\n",
    "from os import path"
   ]
  },
  {
   "cell_type": "code",
   "execution_count": 3,
   "metadata": {},
   "outputs": [],
   "source": [
    "DATA_FOLDER = 'data'\n",
    "INPUT_FOLDER = 'clip_images'\n",
    "IMAGE_NAME = '20180113_130423_103a.tif'\n",
    "\n",
    "input_file = path.join(DATA_FOLDER, INPUT_FOLDER, IMAGE_NAME)\n",
    "src = rasterio.open(input_file)"
   ]
  },
  {
   "cell_type": "code",
   "execution_count": 6,
   "metadata": {},
   "outputs": [
    {
     "data": {
      "text/plain": [
       "array([[0., 0., 0., ..., 0., 0., 0.],\n",
       "       [0., 0., 0., ..., 0., 0., 0.],\n",
       "       [0., 0., 0., ..., 0., 0., 0.],\n",
       "       ...,\n",
       "       [0., 0., 0., ..., 0., 0., 0.],\n",
       "       [0., 0., 0., ..., 0., 0., 0.],\n",
       "       [0., 0., 0., ..., 0., 0., 0.]], dtype=float32)"
      ]
     },
     "execution_count": 6,
     "metadata": {},
     "output_type": "execute_result"
    }
   ],
   "source": [
    "band = src.read(1)\n",
    "band"
   ]
  },
  {
   "cell_type": "code",
   "execution_count": null,
   "metadata": {},
   "outputs": [],
   "source": [
    "avg = np.average(band)"
   ]
  },
  {
   "cell_type": "code",
   "execution_count": null,
   "metadata": {},
   "outputs": [
    {
     "data": {
      "text/plain": [
       "{'sample_date': '20180113_130423', 'avg_ndvi': 0.53494954}"
      ]
     },
     "execution_count": 29,
     "metadata": {},
     "output_type": "execute_result"
    }
   ],
   "source": [
    "sample_results = {}\n",
    "base_name = path.splitext(IMAGE_NAME)[0]\n",
    "sample_date = '_'.join(base_name.split(\"_\")[0:2])\n",
    "sample_results['sample_date'] = sample_date\n",
    "sample_results['avg_ndvi'] = avg\n",
    "\n",
    "sample_results"
   ]
  },
  {
   "cell_type": "code",
   "execution_count": null,
   "metadata": {},
   "outputs": [],
   "source": [
    "header = [\"sample_date\", \"avg_ndvi\"]\n",
    "results = []\n",
    "results.append(sample_results)\n",
    "output_file = path.join(DATA_FOLDER, \"results.csv\")\n",
    "with open(output_file, 'w') as csvfile:\n",
    "    writer = csv.DictWriter(csvfile, fieldnames=header,\n",
    "                            delimiter=',', lineterminator='\\n')\n",
    "    writer.writeheader()\n",
    "    writer.writerows(results)"
   ]
  }
 ],
 "metadata": {
  "kernelspec": {
   "display_name": ".venv",
   "language": "python",
   "name": "python3"
  },
  "language_info": {
   "codemirror_mode": {
    "name": "ipython",
    "version": 3
   },
   "file_extension": ".py",
   "mimetype": "text/x-python",
   "name": "python",
   "nbconvert_exporter": "python",
   "pygments_lexer": "ipython3",
   "version": "3.10.0"
  },
  "orig_nbformat": 4
 },
 "nbformat": 4,
 "nbformat_minor": 2
}
