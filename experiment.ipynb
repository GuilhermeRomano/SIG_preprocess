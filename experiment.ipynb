{
 "cells": [
  {
   "attachments": {},
   "cell_type": "markdown",
   "metadata": {},
   "source": [
    "Desafio Audset\n",
    "\n",
    "O propósito do desafio é dividido em 3 fases.\n",
    "\n",
    "Os insumos estão na pasta IMAGENS_PLANET e no arquivo gleba01.geojson, assim como os requirements no arquivo requirements.txt"
   ]
  },
  {
   "cell_type": "markdown",
   "metadata": {},
   "source": [
    "Primeira fase é calcular o NDVI de cada imagem e salvar o índice na imagem processada."
   ]
  },
  {
   "cell_type": "code",
   "execution_count": null,
   "metadata": {},
   "outputs": [],
   "source": [
    "import rasterio\n",
    "import numpy\n",
    "\n",
    "from rasterio.plot import show\n",
    "from os import path\n",
    "DATA_FOLDER = 'data'\n",
    "RAW_FOLDER = 'IMAGENS_PLANET'\n",
    "PROCESSED_FOLDER = 'processed'\n",
    "IMAGE_NAME = '20180113_130423_103a.tif'\n",
    "input_file = path.join(DATA_FOLDER, RAW_FOLDER, IMAGE_NAME)\n",
    "src = rasterio.open(input_file)\n",
    "#Número de Bandas\n",
    "src.count"
   ]
  },
  {
   "cell_type": "code",
   "execution_count": null,
   "metadata": {},
   "outputs": [],
   "source": [
    "#B1: Azul; B2: Verde; B3: Vermelho; B4: Infravermelho próximo\n",
    "band_red = src.read(3)\n",
    "band_red.shape\n"
   ]
  },
  {
   "cell_type": "code",
   "execution_count": null,
   "metadata": {},
   "outputs": [],
   "source": [
    "band_nir = src.read(4)\n",
    "band_nir.shape"
   ]
  },
  {
   "cell_type": "code",
   "execution_count": null,
   "metadata": {},
   "outputs": [],
   "source": [
    "from matplotlib import pyplot\n",
    "pyplot.imshow(band_red, cmap='pink')\n",
    "pyplot.show()"
   ]
  },
  {
   "cell_type": "code",
   "execution_count": null,
   "metadata": {},
   "outputs": [],
   "source": [
    "pyplot.imshow(band_nir, cmap='pink')\n",
    "pyplot.show()"
   ]
  },
  {
   "cell_type": "code",
   "execution_count": null,
   "metadata": {},
   "outputs": [],
   "source": [
    "#Calcular NDVI\n",
    "# Allow division by zero\n",
    "numpy.seterr(divide='ignore', invalid='ignore')\n",
    "\n",
    "# Calculate NDVI\n",
    "ndvi = (band_nir.astype(float) - band_red.astype(float)) / (band_nir + band_red)\n",
    "ndvi.shape"
   ]
  },
  {
   "cell_type": "code",
   "execution_count": null,
   "metadata": {},
   "outputs": [],
   "source": [
    "pyplot.imshow(ndvi, cmap='Greys')\n",
    "pyplot.show()"
   ]
  },
  {
   "cell_type": "code",
   "execution_count": null,
   "metadata": {},
   "outputs": [],
   "source": [
    "# Set spatial characteristics of the output object to mirror the input\n",
    "kwargs = src.meta\n",
    "kwargs.update(\n",
    "    dtype=rasterio.float32,\n",
    "    count = 1)\n",
    "\n",
    "# Create the file\n",
    "output_file = path.join(DATA_FOLDER, PROCESSED_FOLDER, IMAGE_NAME)\n",
    "with rasterio.open(output_file, 'w', **kwargs) as dst:\n",
    "        dst.write_band(1, ndvi.astype(rasterio.float32))"
   ]
  },
  {
   "cell_type": "code",
   "execution_count": null,
   "metadata": {},
   "outputs": [],
   "source": [
    "final = rasterio.open(output_file)\n",
    "band_ndvi = final.read(1)"
   ]
  },
  {
   "cell_type": "code",
   "execution_count": null,
   "metadata": {},
   "outputs": [],
   "source": [
    "\n",
    "pyplot.imshow(band_ndvi, cmap='Greys')\n",
    "pyplot.show()"
   ]
  }
 ],
 "metadata": {
  "kernelspec": {
   "display_name": ".venv",
   "language": "python",
   "name": "python3"
  },
  "language_info": {
   "codemirror_mode": {
    "name": "ipython",
    "version": 3
   },
   "file_extension": ".py",
   "mimetype": "text/x-python",
   "name": "python",
   "nbconvert_exporter": "python",
   "pygments_lexer": "ipython3",
   "version": "3.10.0"
  },
  "orig_nbformat": 4
 },
 "nbformat": 4,
 "nbformat_minor": 2
}
